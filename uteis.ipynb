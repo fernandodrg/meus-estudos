{
 "cells": [
  {
   "cell_type": "markdown",
   "id": "0fc1a95d-1be0-4644-b5b4-9fee6695c74e",
   "metadata": {},
   "source": [
    "# Amostra de Dados para Data Frames em Pandas\n",
    "Esta função retorna uma estrutura com uma amostra e o tipo de cada coluna disponível no dataframe estudado. O tamanho do sample pode ser personalizado e considera os valores distintos de cada coluna."
   ]
  },
  {
   "cell_type": "code",
   "execution_count": 26,
   "id": "7edf562d-b9de-4e7d-96bf-6293b0106915",
   "metadata": {},
   "outputs": [],
   "source": [
    "import pandas as pd\n",
    "import re\n",
    "\n",
    "def _f_gera_amostra(\n",
    "    _p_df: pd.DataFrame, #dataframe estudado\n",
    "    _p_sample_size: int = 5 #tamanho da amostra\n",
    ") -> pd.DataFrame:\n",
    "    _samples = []\n",
    "    \n",
    "    for _column in _p_df.columns:\n",
    "        \n",
    "        _samples.append({\n",
    "            \"column\": _column, \n",
    "            \"sample\": \"; \".join([str(_aux) for _aux in _p_df[[_column]].drop_duplicates().head(_p_sample_size)[_column].values]),\n",
    "            \"type\": type(_p_df[_column][0])\n",
    "        })\n",
    "    \n",
    "    return pd.DataFrame(_samples)"
   ]
  },
  {
   "cell_type": "code",
   "execution_count": 27,
   "id": "03d2cc56-a109-455c-885b-25d24c055bbf",
   "metadata": {},
   "outputs": [
    {
     "data": {
      "text/html": [
       "<div>\n",
       "<style scoped>\n",
       "    .dataframe tbody tr th:only-of-type {\n",
       "        vertical-align: middle;\n",
       "    }\n",
       "\n",
       "    .dataframe tbody tr th {\n",
       "        vertical-align: top;\n",
       "    }\n",
       "\n",
       "    .dataframe thead th {\n",
       "        text-align: right;\n",
       "    }\n",
       "</style>\n",
       "<table border=\"1\" class=\"dataframe\">\n",
       "  <thead>\n",
       "    <tr style=\"text-align: right;\">\n",
       "      <th></th>\n",
       "      <th>column</th>\n",
       "      <th>sample</th>\n",
       "      <th>type</th>\n",
       "    </tr>\n",
       "  </thead>\n",
       "  <tbody>\n",
       "    <tr>\n",
       "      <th>0</th>\n",
       "      <td>name</td>\n",
       "      <td>fernando reis; poliana costa; davi gabriel cos...</td>\n",
       "      <td>&lt;class 'str'&gt;</td>\n",
       "    </tr>\n",
       "    <tr>\n",
       "      <th>1</th>\n",
       "      <td>birth_year</td>\n",
       "      <td>1987; 1984; 2011; 2013; 2021</td>\n",
       "      <td>&lt;class 'numpy.int64'&gt;</td>\n",
       "    </tr>\n",
       "    <tr>\n",
       "      <th>2</th>\n",
       "      <td>birth_month</td>\n",
       "      <td>August; December; March; September; July</td>\n",
       "      <td>&lt;class 'str'&gt;</td>\n",
       "    </tr>\n",
       "    <tr>\n",
       "      <th>3</th>\n",
       "      <td>height</td>\n",
       "      <td>1.83; 1.67; 1.66; 1.55; 0.87</td>\n",
       "      <td>&lt;class 'numpy.float64'&gt;</td>\n",
       "    </tr>\n",
       "  </tbody>\n",
       "</table>\n",
       "</div>"
      ],
      "text/plain": [
       "        column                                             sample  \\\n",
       "0         name  fernando reis; poliana costa; davi gabriel cos...   \n",
       "1   birth_year                       1987; 1984; 2011; 2013; 2021   \n",
       "2  birth_month           August; December; March; September; July   \n",
       "3       height                       1.83; 1.67; 1.66; 1.55; 0.87   \n",
       "\n",
       "                      type  \n",
       "0            <class 'str'>  \n",
       "1    <class 'numpy.int64'>  \n",
       "2            <class 'str'>  \n",
       "3  <class 'numpy.float64'>  "
      ]
     },
     "execution_count": 27,
     "metadata": {},
     "output_type": "execute_result"
    }
   ],
   "source": [
    "_dados = [\n",
    "    {\"name\": \"fernando reis\",\n",
    "     \"birth_year\": 1987,\n",
    "     \"birth_month\": \"August\",\n",
    "     \"height\": 1.83},\n",
    "    {\"name\": \"poliana costa\",\n",
    "     \"birth_year\": 1984,\n",
    "     \"birth_month\": \"December\",\n",
    "     \"height\": 1.67},\n",
    "    {\"name\": \"davi gabriel costa\",\n",
    "     \"birth_year\": 2011,\n",
    "     \"birth_month\": \"March\",\n",
    "     \"height\": 1.66},\n",
    "    {\"name\": \"nicolas costa\",\n",
    "     \"birth_year\": 2013,\n",
    "     \"birth_month\": \"September\",\n",
    "     \"height\": 1.55},\n",
    "    {\"name\": \"luna costa\",\n",
    "     \"birth_year\": 2021,\n",
    "     \"birth_month\": \"July\",\n",
    "     \"height\": .87}\n",
    "]\n",
    "\n",
    "_df = pd.DataFrame(_dados)\n",
    "\n",
    "_f_gera_amostra(_df, 5)"
   ]
  },
  {
   "attachments": {},
   "cell_type": "markdown",
   "id": "e0499a97",
   "metadata": {},
   "source": [
    "# Remove Caracteres Especiais\n",
    "Esta função remove os caracteres especiais de uma frase e mantém apenas espaços simples entre as palavras."
   ]
  },
  {
   "cell_type": "code",
   "execution_count": 23,
   "id": "57278d8c",
   "metadata": {},
   "outputs": [],
   "source": [
    "import re\n",
    "\n",
    "def _f_remove_caracteres_especiais(\n",
    "        _p_texto: str\n",
    ") -> str:\n",
    "    return re.sub(r'\\s+', ' ', re.sub(r'[^\\w\\s]', ' ', _p_texto)).strip()"
   ]
  },
  {
   "cell_type": "code",
   "execution_count": 28,
   "id": "123ace35",
   "metadata": {},
   "outputs": [
    {
     "data": {
      "text/plain": [
       "'eu sou fernando dos reis gonçalves ehe'"
      ]
     },
     "execution_count": 28,
     "metadata": {},
     "output_type": "execute_result"
    }
   ],
   "source": [
    "_f_remove_caracteres_especiais(\"eu-sou-fernando-,- dos... reis& gonçalves.....    ehe     .........\")"
   ]
  }
 ],
 "metadata": {
  "kernelspec": {
   "display_name": "Python 3 (ipykernel)",
   "language": "python",
   "name": "python3"
  },
  "language_info": {
   "codemirror_mode": {
    "name": "ipython",
    "version": 3
   },
   "file_extension": ".py",
   "mimetype": "text/x-python",
   "name": "python",
   "nbconvert_exporter": "python",
   "pygments_lexer": "ipython3",
   "version": "3.9.16"
  }
 },
 "nbformat": 4,
 "nbformat_minor": 5
}
