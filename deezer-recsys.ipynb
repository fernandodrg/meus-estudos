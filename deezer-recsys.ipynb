{
 "cells": [
  {
   "cell_type": "markdown",
   "id": "2638d236-f428-4180-8aba-7fa3cdd3cfe1",
   "metadata": {},
   "source": [
    "# Install\n",
    "Important `non-built-in` modules to install."
   ]
  },
  {
   "cell_type": "code",
   "execution_count": 1,
   "id": "2f866ea6-7915-4524-9db5-5a3174485dea",
   "metadata": {},
   "outputs": [],
   "source": [
    "#!pip install deezer-python\n",
    "#!pip install deezer-oauth-cli"
   ]
  },
  {
   "cell_type": "markdown",
   "id": "e82cd2d7-9b76-4ae6-8abc-eca7178d58f7",
   "metadata": {},
   "source": [
    "# Imports"
   ]
  },
  {
   "cell_type": "code",
   "execution_count": 2,
   "id": "202781d4-fa83-4948-a661-6d82eb275ffd",
   "metadata": {},
   "outputs": [],
   "source": [
    "import deezer\n",
    "import requests\n",
    "import json\n",
    "import subprocess\n",
    "import re\n",
    "from pathlib import Path"
   ]
  },
  {
   "cell_type": "markdown",
   "id": "cfdc37a1-8ab9-4454-8da7-a3e1e11c05d5",
   "metadata": {},
   "source": [
    "# Config"
   ]
  },
  {
   "cell_type": "markdown",
   "id": "b08a28ed-21a9-460d-87ba-2330a8ed0a07",
   "metadata": {},
   "source": [
    "## Config File"
   ]
  },
  {
   "cell_type": "markdown",
   "id": "7667ed32-ebc2-4a69-ac75-cb81e7779ae2",
   "metadata": {},
   "source": [
    "Create a file `_config.hide` with the `json` format as below.<br>\n",
    "<b>`Make sure only you have access to this information!`</b>\n",
    "\n",
    "```json\n",
    "{ \n",
    "    \"properties\": {\n",
    "        \"_deezer_user_id\": \"your-deezer-user-id\",\n",
    "        \"_deezer_recsys_playlist_id\": \"your-recsys-playlist-id\",\n",
    "        \"_deezer_app_id\": \"your-app-id\",\n",
    "        \"_deezer_app_name\": \"your-app-name\",\n",
    "        \"_deezer_app_secret\": \"your-deezer-app-secret-code\"\n",
    "   }\n",
    "}\n",
    "```"
   ]
  },
  {
   "cell_type": "code",
   "execution_count": 3,
   "id": "b071db21-4405-4cd7-a82d-81c4bfa6f5fd",
   "metadata": {},
   "outputs": [],
   "source": [
    "with open('_config.hide') as _opened_config_file:\n",
    "    _config_file = json.load(_opened_config_file)[\"properties\"]"
   ]
  },
  {
   "cell_type": "markdown",
   "id": "f36e6eea-b7c5-4f1c-b668-7113d6dedc8f",
   "metadata": {},
   "source": [
    "## Deezer Sign In\n",
    "Now you will be redirect to a `Deezer` login page. At this moment the `app token` will be written to `.env` file.<br>\n",
    "<b>`Make sure only you have access to this information!`</b>"
   ]
  },
  {
   "cell_type": "code",
   "execution_count": 4,
   "id": "c005e957-9f99-4c9b-9da3-633729629f56",
   "metadata": {
    "tags": []
   },
   "outputs": [],
   "source": [
    "_deezer_user_id            = _config_file[\"_deezer_user_id\"]\n",
    "_deezer_recsys_playlist_id = _config_file[\"_deezer_recsys_playlist_id\"]\n",
    "\n",
    "_deezer_app_id             = _config_file[\"_deezer_app_id\"]\n",
    "_deezer_app_name           = _config_file[\"_deezer_app_name\"]\n",
    "_deezer_app_secret         = _config_file[\"_deezer_app_secret\"]\n",
    "\n",
    "p = subprocess.call(\n",
    "    [\"deezer-oauth\", _deezer_app_id, _deezer_app_secret],\n",
    "    stdout=subprocess.DEVNULL,\n",
    "    stderr=subprocess.STDOUT\n",
    ")"
   ]
  },
  {
   "cell_type": "markdown",
   "id": "8791a41b-0abd-4ab3-a213-904bd1541d78",
   "metadata": {},
   "source": [
    "## Read Deezer Token from [.env] File\n",
    "Then the `app token` will be readen from `.env` file and set as `_deezer_app_token` variable.<br>\n",
    "<b>`Make sure only you have access to this information!`</b>"
   ]
  },
  {
   "cell_type": "code",
   "execution_count": 5,
   "id": "ca4d2527-c6af-4374-b80b-c259b041fae3",
   "metadata": {},
   "outputs": [],
   "source": [
    "variable_name = \"API_TOKEN\"\n",
    "env_path = Path(\".env\")\n",
    "\n",
    "if env_path.exists():\n",
    "    _env_file_content = env_path.read_text()\n",
    "    _deezer_app_token = re.findall(\"(?<=API_TOKEN=).*\", _env_file_content)[0]\n",
    "else:\n",
    "    raise Exception(\"Please, run the DEEZER-OAUTH process above!\")"
   ]
  },
  {
   "cell_type": "markdown",
   "id": "7229d460-a77a-4438-a627-35d6c3a250aa",
   "metadata": {},
   "source": [
    "# Functions"
   ]
  },
  {
   "cell_type": "code",
   "execution_count": 6,
   "id": "05245027-c7c5-4137-8c00-7adc364128e0",
   "metadata": {},
   "outputs": [],
   "source": [
    "def _f_deezer_api(\n",
    "    _p_method: str,\n",
    "    _p_url:    str\n",
    ") -> dict:\n",
    "    if _p_method == \"GET\":\n",
    "        return json.loads(requests.get(_p_url).content)\n",
    "    elif _p_method == \"POST\":\n",
    "        return json.loads(requests.post(_p_url).content)\n",
    "    elif _p_method == \"DELETE\":\n",
    "        return json.loads(requests.delete(_p_url).content)"
   ]
  },
  {
   "cell_type": "markdown",
   "id": "3308bf13-cd31-4925-8b3f-f0f6aa5f7196",
   "metadata": {},
   "source": [
    "# Data Acquisition"
   ]
  },
  {
   "cell_type": "markdown",
   "id": "dccc1801-e548-42b2-b862-55982a881768",
   "metadata": {},
   "source": [
    "## User Data"
   ]
  },
  {
   "cell_type": "code",
   "execution_count": 7,
   "id": "d6da17e4-160b-4f67-8f99-f05f78cfdf40",
   "metadata": {},
   "outputs": [
    {
     "name": "stdout",
     "output_type": "stream",
     "text": [
      "Welcome, Fernando Gonçalves!\n"
     ]
    }
   ],
   "source": [
    "_user_data = _f_deezer_api(\"GET\", \"https://api.deezer.com/user/{}?access_token={}\".format(_deezer_user_id, _deezer_app_token))\n",
    "\n",
    "print(\"Welcome, {}!\".format(_user_data[\"name\"]))"
   ]
  },
  {
   "cell_type": "markdown",
   "id": "0a295199-5f79-4219-afbe-e987c712e7ef",
   "metadata": {},
   "source": [
    "## User History"
   ]
  },
  {
   "cell_type": "code",
   "execution_count": 8,
   "id": "2f4c97fb-5cbe-4cfc-88c0-411a5d7840d1",
   "metadata": {},
   "outputs": [
    {
     "name": "stdout",
     "output_type": "stream",
     "text": [
      "You listened recently about 15 artists!\n"
     ]
    }
   ],
   "source": [
    "_user_recents_1 = _f_deezer_api(\"GET\", \"https://api.deezer.com/user/{}/history?access_token={}\".format(_deezer_user_id, _deezer_app_token))[\"data\"]\n",
    "_user_recents_2 = _f_deezer_api(\"GET\", \"https://api.deezer.com/user/{}/history?access_token={}&index=50\".format(_deezer_user_id, _deezer_app_token))[\"data\"]\n",
    "\n",
    "_user_recent_artists_1 = {_track[\"artist\"][\"id\"]: _track[\"artist\"][\"name\"] for _track in _user_recents_1}\n",
    "_user_recent_artists_2 = {_track[\"artist\"][\"id\"]: _track[\"artist\"][\"name\"] for _track in _user_recents_2}\n",
    "\n",
    "_user_recent_artists = list(_user_recent_artists_1.keys()) + list(_user_recent_artists_2.keys())\n",
    "\n",
    "print(\"You listened recently about\", len(_user_recent_artists), \"artists!\")"
   ]
  },
  {
   "cell_type": "markdown",
   "id": "f400c2dd-97eb-42fa-95d9-a5394321d14d",
   "metadata": {},
   "source": [
    "## Top 3 for all Artists"
   ]
  },
  {
   "cell_type": "code",
   "execution_count": 9,
   "id": "7d8c31b2-d737-46b4-92b1-e0f0372ca54c",
   "metadata": {},
   "outputs": [
    {
     "name": "stdout",
     "output_type": "stream",
     "text": [
      "The algorithm recommended about 40 new tracks!\n"
     ]
    }
   ],
   "source": [
    "_recommended_track_ids = []\n",
    "\n",
    "for _artist_id in _user_recent_artists:\n",
    "\n",
    "    _artist_top_3_tracks = _f_deezer_api(\"GET\", \"https://api.deezer.com/artist/{}/top?limit=3&access_token={}\".format(_artist_id, _deezer_app_token))[\"data\"]\n",
    "    _artist_track_ids = {_track[\"id\"]: _track[\"title\"] for _track in _artist_top_3_tracks}\n",
    "\n",
    "    _recommended_track_ids = _recommended_track_ids + [str(_track) for _track in set(_artist_track_ids.keys())]\n",
    "\n",
    "_recommended_track_ids = list(set(_recommended_track_ids))\n",
    "_formated_recommended_track_ids = \",\".join(_recommended_track_ids).strip()\n",
    "\n",
    "print(\"The algorithm recommended about\", len(_recommended_track_ids), \"new tracks!\")"
   ]
  },
  {
   "cell_type": "markdown",
   "id": "bbe3f3c8-a73d-427d-bc37-798cc72a92c9",
   "metadata": {},
   "source": [
    "## Update RecSys tracks"
   ]
  },
  {
   "cell_type": "markdown",
   "id": "0821fea0-0528-4078-812e-bf460ca1a71d",
   "metadata": {},
   "source": [
    "### Drop Old Recommended Tracks from the RecSys playlist"
   ]
  },
  {
   "cell_type": "code",
   "execution_count": 10,
   "id": "94b3b0af-59b2-4536-8183-fd892158e234",
   "metadata": {},
   "outputs": [
    {
     "name": "stdout",
     "output_type": "stream",
     "text": [
      "The playlist was cleaned!\n"
     ]
    }
   ],
   "source": [
    "_old_tracks = [str(_track[\"id\"]) for _track in _f_deezer_api(\"GET\", \"https://api.deezer.com/playlist/{}?access_token={}\".format(_deezer_recsys_playlist_id, _deezer_app_token))[\"tracks\"][\"data\"]]\n",
    "_formated_old_track_ids = \",\".join(_old_tracks).strip()\n",
    "\n",
    "_delete_tracks = _f_deezer_api(\"DELETE\", \"https://api.deezer.com/playlist/{}/tracks?access_token={}&songs={}\".format(_deezer_recsys_playlist_id, _deezer_app_token, _formated_old_track_ids))\n",
    "\n",
    "if _delete_tracks:\n",
    "    print(\"The playlist was cleaned!\")"
   ]
  },
  {
   "cell_type": "markdown",
   "id": "501a8db0-9738-4a6c-8951-b07fc782533f",
   "metadata": {},
   "source": [
    "### Add the Newest Recommended Songs to RecSys playlist "
   ]
  },
  {
   "cell_type": "code",
   "execution_count": 11,
   "id": "8d1ac231-687e-4445-a4a0-8e1bdb63a812",
   "metadata": {},
   "outputs": [
    {
     "name": "stdout",
     "output_type": "stream",
     "text": [
      "The playlist was updated with the new recommended songs!\n"
     ]
    }
   ],
   "source": [
    "_updated_tracks = _f_deezer_api(\"POST\", \"https://api.deezer.com/playlist/{}/tracks?access_token={}&songs={}\".format(_deezer_recsys_playlist_id, _deezer_app_token, _formated_recommended_track_ids))\n",
    "\n",
    "if _updated_tracks:\n",
    "    print(\"The playlist was updated with the new recommended songs!\")"
   ]
  }
 ],
 "metadata": {
  "kernelspec": {
   "display_name": "Python 3 (ipykernel)",
   "language": "python",
   "name": "python3"
  },
  "language_info": {
   "codemirror_mode": {
    "name": "ipython",
    "version": 3
   },
   "file_extension": ".py",
   "mimetype": "text/x-python",
   "name": "python",
   "nbconvert_exporter": "python",
   "pygments_lexer": "ipython3",
   "version": "3.9.13"
  }
 },
 "nbformat": 4,
 "nbformat_minor": 5
}
