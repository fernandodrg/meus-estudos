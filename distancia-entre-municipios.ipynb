{
 "cells": [
  {
   "cell_type": "markdown",
   "id": "5c8506aa-7b77-43c2-9548-326f8bbb4aba",
   "metadata": {},
   "source": [
    "# Instalação de Módulos Importantes"
   ]
  },
  {
   "cell_type": "code",
   "execution_count": 1,
   "id": "1732defa-c887-4356-b866-30c1b901e48f",
   "metadata": {},
   "outputs": [],
   "source": [
    "#pip install openrouteservice folium "
   ]
  },
  {
   "cell_type": "markdown",
   "id": "c3ff7a47-b519-4483-bc60-8aeb8ce17ec6",
   "metadata": {},
   "source": [
    "# Imports"
   ]
  },
  {
   "cell_type": "code",
   "execution_count": 194,
   "id": "db64f4b2-ad0b-4770-9fbb-a6f1379e6e3f",
   "metadata": {},
   "outputs": [],
   "source": [
    "import pandas as pd\n",
    "import numpy as np\n",
    "import time\n",
    "import json\n",
    "from itertools import permutations\n",
    "\n",
    "import matplotlib.pyplot as plt\n",
    "\n",
    "import openrouteservice"
   ]
  },
  {
   "cell_type": "markdown",
   "id": "1e861a5f-16e8-4ce3-9382-c14b4814cf27",
   "metadata": {},
   "source": [
    "# Config"
   ]
  },
  {
   "cell_type": "markdown",
   "id": "f3c0dff6-ce47-4834-8bf9-89ed41ef6dc2",
   "metadata": {},
   "source": [
    "Entre no portal da `ORS` `https://openrouteservice.org/dev` para criar seu `login` e requisitar um `token` para utilização da `API`.<br>\n",
    "<b>`É totalmente grátis!`</b>\n",
    "\n",
    "Crie um arquivo chamado `_config.hide` com o formato `json` como abaixo.<br>\n",
    "<b>`Tenha certeza que você e somente você tenha acesso a este token!`</b>\n",
    "\n",
    "```json\n",
    "{\n",
    "    \"ors\": {\n",
    "        \"_api_token_code\": \"seu-token-code\"\n",
    "   }\n",
    "}\n",
    "```"
   ]
  },
  {
   "cell_type": "code",
   "execution_count": 196,
   "id": "6d2624fb-d8af-406a-810d-820615b36bc9",
   "metadata": {},
   "outputs": [],
   "source": [
    "with open('_config.hide') as _opened_config_file:\n",
    "    _config_file = json.load(_opened_config_file)[\"ors\"]"
   ]
  },
  {
   "cell_type": "markdown",
   "id": "6bd0a110-1ee4-4409-8d28-ec5fdca2fc7a",
   "metadata": {},
   "source": [
    "## API Connection\n",
    "Agora você estará conectado ao serviço da `ORS` usando o token `api-token-code`.<br>\n",
    "<b>`Tenha certeza que você e somente você tenha acesso a este token!`</b>"
   ]
  },
  {
   "cell_type": "code",
   "execution_count": 198,
   "id": "9f55dd59-f846-48a7-8221-2b4a815a19f4",
   "metadata": {},
   "outputs": [],
   "source": [
    "_api_token_code = _config_file[\"_api_token_code\"]\n",
    "\n",
    "_client = openrouteservice.Client(key=_api_token_code)"
   ]
  },
  {
   "cell_type": "markdown",
   "id": "9ab99a62-d560-4280-aacf-03725c5056f3",
   "metadata": {},
   "source": [
    "## Carregando o arquivo do IBGE\n",
    "Carregando um `DataFrame` com a biblioteca `Pandas` a partir de um arquivo `.csv` extraído do portal do `IBGE` contendo os de todos os `municípios` do Brasil juntamente com os seus respectivos dados de `latitude` e `longitude` do centro da cidade."
   ]
  },
  {
   "cell_type": "code",
   "execution_count": 199,
   "id": "9ce20e97-06f6-408c-b0a3-9d703741e45c",
   "metadata": {},
   "outputs": [
    {
     "data": {
      "text/html": [
       "<div>\n",
       "<style scoped>\n",
       "    .dataframe tbody tr th:only-of-type {\n",
       "        vertical-align: middle;\n",
       "    }\n",
       "\n",
       "    .dataframe tbody tr th {\n",
       "        vertical-align: top;\n",
       "    }\n",
       "\n",
       "    .dataframe thead th {\n",
       "        text-align: right;\n",
       "    }\n",
       "</style>\n",
       "<table border=\"1\" class=\"dataframe\">\n",
       "  <thead>\n",
       "    <tr style=\"text-align: right;\">\n",
       "      <th></th>\n",
       "      <th>ibge</th>\n",
       "      <th>microrregiao</th>\n",
       "      <th>mesorregiao</th>\n",
       "      <th>municipio</th>\n",
       "      <th>uf</th>\n",
       "      <th>lat</th>\n",
       "      <th>long</th>\n",
       "      <th>long_lat</th>\n",
       "    </tr>\n",
       "  </thead>\n",
       "  <tbody>\n",
       "    <tr>\n",
       "      <th>0</th>\n",
       "      <td>5200050</td>\n",
       "      <td>GOIÂNIA</td>\n",
       "      <td>CENTRO GOIANO</td>\n",
       "      <td>ABADIA DE GOIÁS</td>\n",
       "      <td>GO</td>\n",
       "      <td>-16.75730</td>\n",
       "      <td>-49.4412</td>\n",
       "      <td>-49.4412 -16.7573</td>\n",
       "    </tr>\n",
       "    <tr>\n",
       "      <th>1</th>\n",
       "      <td>3100104</td>\n",
       "      <td>PATROCÍNIO</td>\n",
       "      <td>TRIÂNGULO MINEIRO/ALTO PARANAÍBA</td>\n",
       "      <td>ABADIA DOS DOURADOS</td>\n",
       "      <td>MG</td>\n",
       "      <td>-18.48310</td>\n",
       "      <td>-47.3916</td>\n",
       "      <td>-47.3916 -18.4831</td>\n",
       "    </tr>\n",
       "    <tr>\n",
       "      <th>2</th>\n",
       "      <td>5200100</td>\n",
       "      <td>ENTORNO DE BRASÍLIA</td>\n",
       "      <td>LESTE GOIANO</td>\n",
       "      <td>ABADIÂNIA</td>\n",
       "      <td>GO</td>\n",
       "      <td>-16.19700</td>\n",
       "      <td>-48.7057</td>\n",
       "      <td>-48.7057 -16.197</td>\n",
       "    </tr>\n",
       "    <tr>\n",
       "      <th>3</th>\n",
       "      <td>3100203</td>\n",
       "      <td>TRÊS MARIAS</td>\n",
       "      <td>CENTRAL MINEIRA</td>\n",
       "      <td>ABAETÉ</td>\n",
       "      <td>MG</td>\n",
       "      <td>-19.15510</td>\n",
       "      <td>-45.4444</td>\n",
       "      <td>-45.4444 -19.1551</td>\n",
       "    </tr>\n",
       "    <tr>\n",
       "      <th>4</th>\n",
       "      <td>1500107</td>\n",
       "      <td>CAMETÁ</td>\n",
       "      <td>NORDESTE PARAENSE</td>\n",
       "      <td>ABAETETUBA</td>\n",
       "      <td>PA</td>\n",
       "      <td>-1.72183</td>\n",
       "      <td>-48.8788</td>\n",
       "      <td>-48.8788 -1.72183</td>\n",
       "    </tr>\n",
       "  </tbody>\n",
       "</table>\n",
       "</div>"
      ],
      "text/plain": [
       "      ibge         microrregiao                       mesorregiao  \\\n",
       "0  5200050              GOIÂNIA                     CENTRO GOIANO   \n",
       "1  3100104           PATROCÍNIO  TRIÂNGULO MINEIRO/ALTO PARANAÍBA   \n",
       "2  5200100  ENTORNO DE BRASÍLIA                      LESTE GOIANO   \n",
       "3  3100203          TRÊS MARIAS                   CENTRAL MINEIRA   \n",
       "4  1500107               CAMETÁ                 NORDESTE PARAENSE   \n",
       "\n",
       "             municipio  uf       lat     long           long_lat  \n",
       "0      ABADIA DE GOIÁS  GO -16.75730 -49.4412  -49.4412 -16.7573  \n",
       "1  ABADIA DOS DOURADOS  MG -18.48310 -47.3916  -47.3916 -18.4831  \n",
       "2            ABADIÂNIA  GO -16.19700 -48.7057   -48.7057 -16.197  \n",
       "3               ABAETÉ  MG -19.15510 -45.4444  -45.4444 -19.1551  \n",
       "4           ABAETETUBA  PA  -1.72183 -48.8788  -48.8788 -1.72183  "
      ]
     },
     "execution_count": 199,
     "metadata": {},
     "output_type": "execute_result"
    }
   ],
   "source": [
    "_df_ibge = pd.read_csv(\"dados/ibge_municipios.csv\", sep=\";\")\n",
    "#_df_ibge.to_csv(\"dados/ibge_municipios.csv\", sep=\";\", index=False)\n",
    "\n",
    "_df_ibge[\"long_lat\"] = _df_ibge[\"long\"].apply(str) + \" \" + _df_ibge[\"lat\"].apply(str)\n",
    "\n",
    "_df_ibge.head()"
   ]
  },
  {
   "cell_type": "markdown",
   "id": "86837ee7-8c16-4247-b215-9b3ab6f030fe",
   "metadata": {},
   "source": [
    "## Filtrando somente o Centro-Sul Cearense\n",
    "Para facilitar a demonstração do recurso, abaixo filtramos `apenas` os municípios da `mesorregião` Centro-Sul do Ceará."
   ]
  },
  {
   "cell_type": "code",
   "execution_count": 66,
   "id": "1402c436-ca54-474f-840f-f6bc8ea201bb",
   "metadata": {},
   "outputs": [
    {
     "data": {
      "text/html": [
       "<div>\n",
       "<style scoped>\n",
       "    .dataframe tbody tr th:only-of-type {\n",
       "        vertical-align: middle;\n",
       "    }\n",
       "\n",
       "    .dataframe tbody tr th {\n",
       "        vertical-align: top;\n",
       "    }\n",
       "\n",
       "    .dataframe thead th {\n",
       "        text-align: right;\n",
       "    }\n",
       "</style>\n",
       "<table border=\"1\" class=\"dataframe\">\n",
       "  <thead>\n",
       "    <tr style=\"text-align: right;\">\n",
       "      <th></th>\n",
       "      <th>ibge</th>\n",
       "      <th>microrregiao</th>\n",
       "      <th>mesorregiao</th>\n",
       "      <th>municipio</th>\n",
       "      <th>uf</th>\n",
       "      <th>lat</th>\n",
       "      <th>long</th>\n",
       "      <th>long_lat</th>\n",
       "    </tr>\n",
       "  </thead>\n",
       "  <tbody>\n",
       "    <tr>\n",
       "      <th>2223</th>\n",
       "      <td>2305704</td>\n",
       "      <td>LAVRAS DA MANGABEIRA</td>\n",
       "      <td>CENTRO-SUL CEARENSE</td>\n",
       "      <td>IPAUMIRIM</td>\n",
       "      <td>CE</td>\n",
       "      <td>-6.78265</td>\n",
       "      <td>-38.7179</td>\n",
       "      <td>-38.7179 -6.78265</td>\n",
       "    </tr>\n",
       "    <tr>\n",
       "      <th>5447</th>\n",
       "      <td>2314003</td>\n",
       "      <td>VÁRZEA ALEGRE</td>\n",
       "      <td>CENTRO-SUL CEARENSE</td>\n",
       "      <td>VÁRZEA ALEGRE</td>\n",
       "      <td>CE</td>\n",
       "      <td>-6.78264</td>\n",
       "      <td>-39.2942</td>\n",
       "      <td>-39.2942 -6.78264</td>\n",
       "    </tr>\n",
       "    <tr>\n",
       "      <th>256</th>\n",
       "      <td>2300804</td>\n",
       "      <td>VÁRZEA ALEGRE</td>\n",
       "      <td>CENTRO-SUL CEARENSE</td>\n",
       "      <td>ANTONINA DO NORTE</td>\n",
       "      <td>CE</td>\n",
       "      <td>-6.76919</td>\n",
       "      <td>-39.9870</td>\n",
       "      <td>-39.987 -6.76919</td>\n",
       "    </tr>\n",
       "    <tr>\n",
       "      <th>2755</th>\n",
       "      <td>2307502</td>\n",
       "      <td>LAVRAS DA MANGABEIRA</td>\n",
       "      <td>CENTRO-SUL CEARENSE</td>\n",
       "      <td>LAVRAS DA MANGABEIRA</td>\n",
       "      <td>CE</td>\n",
       "      <td>-6.74480</td>\n",
       "      <td>-38.9706</td>\n",
       "      <td>-38.9706 -6.7448</td>\n",
       "    </tr>\n",
       "    <tr>\n",
       "      <th>460</th>\n",
       "      <td>2301802</td>\n",
       "      <td>LAVRAS DA MANGABEIRA</td>\n",
       "      <td>CENTRO-SUL CEARENSE</td>\n",
       "      <td>BAIXIO</td>\n",
       "      <td>CE</td>\n",
       "      <td>-6.71945</td>\n",
       "      <td>-38.7134</td>\n",
       "      <td>-38.7134 -6.71945</td>\n",
       "    </tr>\n",
       "  </tbody>\n",
       "</table>\n",
       "</div>"
      ],
      "text/plain": [
       "         ibge          microrregiao          mesorregiao  \\\n",
       "2223  2305704  LAVRAS DA MANGABEIRA  CENTRO-SUL CEARENSE   \n",
       "5447  2314003         VÁRZEA ALEGRE  CENTRO-SUL CEARENSE   \n",
       "256   2300804         VÁRZEA ALEGRE  CENTRO-SUL CEARENSE   \n",
       "2755  2307502  LAVRAS DA MANGABEIRA  CENTRO-SUL CEARENSE   \n",
       "460   2301802  LAVRAS DA MANGABEIRA  CENTRO-SUL CEARENSE   \n",
       "\n",
       "                 municipio  uf      lat     long           long_lat  \n",
       "2223             IPAUMIRIM  CE -6.78265 -38.7179  -38.7179 -6.78265  \n",
       "5447         VÁRZEA ALEGRE  CE -6.78264 -39.2942  -39.2942 -6.78264  \n",
       "256      ANTONINA DO NORTE  CE -6.76919 -39.9870   -39.987 -6.76919  \n",
       "2755  LAVRAS DA MANGABEIRA  CE -6.74480 -38.9706   -38.9706 -6.7448  \n",
       "460                 BAIXIO  CE -6.71945 -38.7134  -38.7134 -6.71945  "
      ]
     },
     "execution_count": 66,
     "metadata": {},
     "output_type": "execute_result"
    }
   ],
   "source": [
    "_df_centro_sul_cearense = _df_ibge[\n",
    "    (_df_ibge.uf==\"CE\") &\n",
    "    (_df_ibge.mesorregiao==\"CENTRO-SUL CEARENSE\")\n",
    "].sort_values(by=[\"lat\"])\n",
    "\n",
    "_df_centro_sul_cearense.head()"
   ]
  },
  {
   "cell_type": "markdown",
   "id": "89a4bd12-e066-41be-a88d-efc8ae01b75e",
   "metadata": {},
   "source": [
    "## Requisitando as rotas entre os Municípios do Centro-Sul Cearense"
   ]
  },
  {
   "cell_type": "markdown",
   "id": "8b4b212b-308d-4a94-a57b-7d00ea7fa5bc",
   "metadata": {},
   "source": [
    "### Criando a combinação única de todos os municípios\n",
    "Abaixo serão listadas todas as `combinações de municípios`, `evitando` a `duplicidade` provocada pelo processo de `permutação`. Em outras palavras, a `rota` é analisada `apenas` na `ida` em vez de `ida e vinda`."
   ]
  },
  {
   "cell_type": "code",
   "execution_count": null,
   "id": "dedad86f-2dcb-4e08-8d23-c1501f786188",
   "metadata": {},
   "outputs": [],
   "source": [
    "_longs_lats_centro_sul_cearense = list(_df_centro_sul_cearense[\"long_lat\"])\n",
    "_longs_lats_centro_sul_cearense_combinados = [(tuple(_coord[0].split()), tuple(_coord[1].split())) for _coord in _longs_lats_centro_sul_cearense_combinados]"
   ]
  },
  {
   "cell_type": "markdown",
   "id": "070503a4-2cbd-46ea-8807-a4c9937dcf84",
   "metadata": {},
   "source": [
    "### Buscando todos os dados de rota\n",
    "Agora todas as `rotas` serão `calculadas` a partir do serviço da `ORS`. É necessário `aguardar 5 segundos` para evitar `onerar` a `API`."
   ]
  },
  {
   "cell_type": "code",
   "execution_count": null,
   "id": "b6aa1347-1c06-40f4-b5c9-09785df152fb",
   "metadata": {},
   "outputs": [],
   "source": [
    "_dict_coord_dist_dur_rota = {}\n",
    "\n",
    "for _coords in _longs_lats_centro_sul_cearense_combinados:\n",
    "    time.sleep(5)\n",
    "    _res = _client.directions(_coords)\n",
    "    \n",
    "    _distancia = _res[\"routes\"][0][\"summary\"][\"distance\"]\n",
    "    _duracao   = _res[\"routes\"][0][\"summary\"][\"duration\"]\n",
    "    _rota = pd.DataFrame(openrouteservice.convert.decode_polyline(_res['routes'][0]['geometry'])[\"coordinates\"], columns=[\"long\", \"lat\"])\n",
    "    \n",
    "    _dict_coord_dist_dur_rota[_coords] = {\n",
    "        \"metros\":   _distancia,\n",
    "        \"segundos\": _duracao,\n",
    "        \"rota\":     _rota\n",
    "    }"
   ]
  },
  {
   "cell_type": "markdown",
   "id": "15d8e5aa-b34c-409e-8d3e-ad981144f46a",
   "metadata": {},
   "source": [
    "## Criando as labels com os nomes dos municípios para plotar no mapa"
   ]
  },
  {
   "cell_type": "code",
   "execution_count": 166,
   "id": "1108c922-45c4-4d7c-a14b-8cfa4b7e2f32",
   "metadata": {},
   "outputs": [],
   "source": [
    "_labels_to_plot = _df_centro_sul_cearense.set_index([\n",
    "  \"long\",\n",
    "  \"lat\"\n",
    "]).municipio.to_dict()"
   ]
  },
  {
   "cell_type": "markdown",
   "id": "097a2ab4-14c6-474a-be2f-e32439ec9c23",
   "metadata": {},
   "source": [
    "## Plotando os dados analisados no mapa\n",
    "Será plotado um `gráfico de dispersão` análogo a um `mapa` contendo os `municípios` (pontos) e as `rotas` entre eles (linhas em cinza claro)."
   ]
  },
  {
   "cell_type": "code",
   "execution_count": 189,
   "id": "bd9ac919-92c2-4eda-b6ae-d38508b1a308",
   "metadata": {},
   "outputs": [
    {
     "data": {
      "image/png": "[encoded data removed]",
      "text/plain": [
       "<Figure size 1000x800 with 1 Axes>"
      ]
     },
     "metadata": {},
     "output_type": "display_data"
    }
   ],
   "source": [
    "# initialize an axis\n",
    "fig, ax = plt.subplots(figsize=(10, 8))\n",
    "# plot map on axis\n",
    "\n",
    "#plotar centro sul cearense\n",
    "_df_centro_sul_cearense.plot(\n",
    "    x=\"long\", \n",
    "    y=\"lat\", \n",
    "    kind=\"scatter\", \n",
    "    c=\"red\",\n",
    "    s=20,\n",
    "    colormap=\"YlOrRd\", \n",
    "    ax=ax\n",
    ")\n",
    "\n",
    "#plotar nomes das cidades\n",
    "for _long_lat in _labels_to_plot.keys():\n",
    "    plt.annotate(_labels_to_plot[_long_lat], (_long_lat))\n",
    "\n",
    "#plotar as rotas entre cada cidade\n",
    "for _coords in _dict_coord_dist_dur_rota.keys():\n",
    "    _rota = _dict_coord_dist_dur_rota[_coords][\"rota\"]\n",
    "    #_km = _dict_coord_dist_dur_rota[_coords][\"metros\"] / 1000\n",
    "    \n",
    "    #_i_meio_rota = round(len(_rota) / 2)\n",
    "    \n",
    "    plt.plot(_rota[\"long\"], _rota[\"lat\"], color=\"lightgrey\") #rota\n",
    "    #plt.annotate(str(round(_km)), (_rota.iloc[_i_meio_rota][0], _rota.iloc[_i_meio_rota][1])) #km\n",
    "\n",
    "# add grid\n",
    "ax.grid(alpha=0.5)\n",
    "plt.show()"
   ]
  }
 ],
 "metadata": {
  "kernelspec": {
   "display_name": "Python 3 (ipykernel)",
   "language": "python",
   "name": "python3"
  },
  "language_info": {
   "codemirror_mode": {
    "name": "ipython",
    "version": 3
   },
   "file_extension": ".py",
   "mimetype": "text/x-python",
   "name": "python",
   "nbconvert_exporter": "python",
   "pygments_lexer": "ipython3",
   "version": "3.9.13"
  }
 },
 "nbformat": 4,
 "nbformat_minor": 5
}
